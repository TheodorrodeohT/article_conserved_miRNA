{
  "nbformat": 4,
  "nbformat_minor": 0,
  "metadata": {
    "colab": {
      "name": "2022-05-12_01_Kouzine_data_preprocessing.ipynb",
      "provenance": [],
      "collapsed_sections": [],
      "toc_visible": true
    },
    "kernelspec": {
      "name": "python3",
      "display_name": "Python 3"
    },
    "language_info": {
      "name": "python"
    }
  },
  "cells": [
    {
      "cell_type": "markdown",
      "source": [
        "## Imports"
      ],
      "metadata": {
        "id": "nyXy4lr7ghUz"
      }
    },
    {
      "cell_type": "code",
      "source": [
        "!apt-get install bedtools\n",
        "!pip install loguru biopython"
      ],
      "metadata": {
        "id": "TRQ-o8s2yRn7"
      },
      "execution_count": null,
      "outputs": []
    },
    {
      "cell_type": "code",
      "source": [
        "import os\n",
        "import pandas as pd"
      ],
      "metadata": {
        "id": "nhYM6MfBGLE7"
      },
      "execution_count": 2,
      "outputs": []
    },
    {
      "cell_type": "markdown",
      "source": [
        "## Data"
      ],
      "metadata": {
        "id": "ByjfR8Et84PS"
      }
    },
    {
      "cell_type": "markdown",
      "source": [
        "### Utilities and genome files (?)"
      ],
      "metadata": {
        "id": "0v0B5l0yX3-3"
      }
    },
    {
      "cell_type": "code",
      "source": [
        "\"\"\"Get mm10 genome data.\"\"\"\n",
        "\n",
        "!wget -c https://hgdownload.soe.ucsc.edu/goldenPath/mm10/bigZips/mm10.fa.gz\n",
        "!gzip -df mm10.fa.gz\n",
        "\n",
        "!wget -c http://hgdownload.cse.ucsc.edu/goldenpath/mm10/bigZips/mm10.chrom.sizes"
      ],
      "metadata": {
        "id": "oZQ23x3cRzcC"
      },
      "execution_count": null,
      "outputs": []
    },
    {
      "cell_type": "code",
      "source": [
        "\"\"\"Get liftOver tool files.\"\"\"\n",
        "\n",
        "!wget -c http://hgdownload.soe.ucsc.edu/admin/exe/linux.x86_64/liftOver\n",
        "!wget -c https://hgdownload.cse.ucsc.edu/goldenpath/mm9/liftOver/mm9ToMm10.over.chain.gz\n",
        "!chmod +x {'./liftOver'}"
      ],
      "metadata": {
        "id": "UKmXZKk5-zfg"
      },
      "execution_count": null,
      "outputs": []
    },
    {
      "cell_type": "markdown",
      "source": [
        "### Kouzine peaks"
      ],
      "metadata": {
        "id": "KBIz2aOlXzSj"
      }
    },
    {
      "cell_type": "code",
      "source": [
        "\"\"\"Get Kouzine ssDNA data.\"\"\"\n",
        "\n",
        "!wget -c https://www.ncbi.nlm.nih.gov/CBBresearch/Przytycka/software/nonbdna/nonB_DNA_ssDNA_enriched.tar\n",
        "\n",
        "!rm -r nonB_DNA_ssDNA_enriched ; tar -xvf nonB_DNA_ssDNA_enriched.tar\n",
        "with os.scandir('nonB_DNA_ssDNA_enriched/mouse_mm9') as it:\n",
        "  for entry in it:\n",
        "    !gzip -df {entry.path}"
      ],
      "metadata": {
        "id": "YztwAqxG96qA"
      },
      "execution_count": null,
      "outputs": []
    },
    {
      "cell_type": "markdown",
      "source": [
        "## Preprocessing"
      ],
      "metadata": {
        "id": "pvhqUOYgXsQm"
      }
    },
    {
      "cell_type": "markdown",
      "source": [
        "### Uplift Kouzine peaks"
      ],
      "metadata": {
        "id": "MRiEpXx8a_F9"
      }
    },
    {
      "cell_type": "code",
      "source": [
        "\"\"\"Uplift from mm9 to mm10.\"\"\"\n",
        "\n",
        "!rm -r mm10_kouzine_ssDNA ; mkdir -p mm10_kouzine_ssDNA\n",
        "with os.scandir('nonB_DNA_ssDNA_enriched/mouse_mm9') as it:\n",
        "  for entry in it:\n",
        "    new_entry_path = 'mm10_kouzine_ssDNA/mm10_kouzine_' + entry.name.lower()\n",
        "\n",
        "    !tail -n +2 {entry.path} > temp && mv temp {entry.path}\n",
        "    !./liftOver {entry.path} mm9ToMm10.over.chain.gz {new_entry_path} unmapped_regions.bed"
      ],
      "metadata": {
        "colab": {
          "base_uri": "https://localhost:8080/"
        },
        "id": "xBrspN0PPoWA",
        "outputId": "43861da6-99a3-43b5-ceb4-6ff147d60a16"
      },
      "execution_count": 6,
      "outputs": [
        {
          "output_type": "stream",
          "name": "stdout",
          "text": [
            "rm: cannot remove 'mm10_kouzine_ssDNA': No such file or directory\n",
            "Reading liftover chains\n",
            "Mapping coordinates\n",
            "Reading liftover chains\n",
            "Mapping coordinates\n",
            "Reading liftover chains\n",
            "Mapping coordinates\n",
            "Reading liftover chains\n",
            "Mapping coordinates\n"
          ]
        }
      ]
    },
    {
      "cell_type": "markdown",
      "source": [
        "### SIDD slops"
      ],
      "metadata": {
        "id": "iEm3x-FHbBPR"
      }
    },
    {
      "cell_type": "code",
      "source": [
        "\"\"\"Calculate slops for SIDD.\"\"\"\n",
        "\n",
        "path_to_sidd = 'mm10_kouzine_ssDNA/mm10_kouzine_actb_ssdna_enriched_sidd.bed'\n",
        "slop_values = [100, 200, 500]\n",
        "\n",
        "for slop_val in slop_values:\n",
        "  slop_path = path_to_sidd.replace('.bed', f'_slop{slop_val}.bed')\n",
        "  !bedtools slop -i {path_to_sidd} -g mm10.chrom.sizes -b {slop_val} > {slop_path}"
      ],
      "metadata": {
        "id": "XJPMT-fOZ8p9"
      },
      "execution_count": 7,
      "outputs": []
    },
    {
      "cell_type": "markdown",
      "source": [
        "### Intersections"
      ],
      "metadata": {
        "id": "9LVdK7sudIC5"
      }
    },
    {
      "cell_type": "code",
      "source": [
        "\"\"\"Intersect other flipons with SIDD.\"\"\"\n",
        "\n",
        "kouzine_data = [\n",
        "  ('z-dna', './mm10_kouzine_ssDNA/mm10_kouzine_actb_ssdna_enriched_z-dna.bed'),\n",
        "  ('g4',    './mm10_kouzine_ssDNA/mm10_kouzine_actb_ssdna_enriched_quadruplex.bed'),\n",
        "  ('h-dna', './mm10_kouzine_ssDNA/mm10_kouzine_actb_ssdna_enriched_h-dna.bed'),\n",
        "]\n",
        "\n",
        "sidd_slops = [f'mm10_kouzine_ssDNA/mm10_kouzine_actb_ssdna_enriched_sidd_slop{x}.bed' for x in slop_values]\n",
        "sidd_slops.insert(0, 'mm10_kouzine_ssDNA/mm10_kouzine_actb_ssdna_enriched_sidd.bed')\n",
        "\n",
        "for _, a in kouzine_data:\n",
        "  for i, b in enumerate(sidd_slops):\n",
        "    intersection_path = a.replace('.bed', '_and'+b.split('enriched')[1].strip())\n",
        "    !bedtools intersect -a {a} -b {b} -u > {intersection_path}\n",
        "    !wc -l {intersection_path}"
      ],
      "metadata": {
        "colab": {
          "base_uri": "https://localhost:8080/"
        },
        "id": "Jlk2uFRHYEeS",
        "outputId": "701b830c-0b36-42ce-9292-cff6635b7225"
      },
      "execution_count": 8,
      "outputs": [
        {
          "output_type": "stream",
          "name": "stdout",
          "text": [
            "256 ./mm10_kouzine_ssDNA/mm10_kouzine_actb_ssdna_enriched_z-dna_and_sidd.bed\n",
            "758 ./mm10_kouzine_ssDNA/mm10_kouzine_actb_ssdna_enriched_z-dna_and_sidd_slop100.bed\n",
            "1117 ./mm10_kouzine_ssDNA/mm10_kouzine_actb_ssdna_enriched_z-dna_and_sidd_slop200.bed\n",
            "1802 ./mm10_kouzine_ssDNA/mm10_kouzine_actb_ssdna_enriched_z-dna_and_sidd_slop500.bed\n",
            "1374 ./mm10_kouzine_ssDNA/mm10_kouzine_actb_ssdna_enriched_quadruplex_and_sidd.bed\n",
            "2250 ./mm10_kouzine_ssDNA/mm10_kouzine_actb_ssdna_enriched_quadruplex_and_sidd_slop100.bed\n",
            "2534 ./mm10_kouzine_ssDNA/mm10_kouzine_actb_ssdna_enriched_quadruplex_and_sidd_slop200.bed\n",
            "3089 ./mm10_kouzine_ssDNA/mm10_kouzine_actb_ssdna_enriched_quadruplex_and_sidd_slop500.bed\n",
            "1627 ./mm10_kouzine_ssDNA/mm10_kouzine_actb_ssdna_enriched_h-dna_and_sidd.bed\n",
            "2016 ./mm10_kouzine_ssDNA/mm10_kouzine_actb_ssdna_enriched_h-dna_and_sidd_slop100.bed\n",
            "2249 ./mm10_kouzine_ssDNA/mm10_kouzine_actb_ssdna_enriched_h-dna_and_sidd_slop200.bed\n",
            "2560 ./mm10_kouzine_ssDNA/mm10_kouzine_actb_ssdna_enriched_h-dna_and_sidd_slop500.bed\n"
          ]
        }
      ]
    },
    {
      "cell_type": "markdown",
      "source": [
        "### Overall slops"
      ],
      "metadata": {
        "id": "nsMUmzslbRPR"
      }
    },
    {
      "cell_type": "code",
      "source": [
        "\"\"\"Calculate slops for each bedfile (required to find overlaps with miRNA).\"\"\"\n",
        "\n",
        "import os\n",
        "\n",
        "with os.scandir('./mm10_kouzine_ssDNA') as it:\n",
        "  for entry in it:\n",
        "    for slop_val in slop_values:\n",
        "      path_to_slop = entry.path.replace('.bed', f'.slop{slop_val}.bed')\n",
        "      !bedtools slop -i {entry.path} -g mm10.chrom.sizes -b {slop_val} > {path_to_slop}"
      ],
      "metadata": {
        "id": "EM7q00IubH2b"
      },
      "execution_count": 9,
      "outputs": []
    }
  ]
}